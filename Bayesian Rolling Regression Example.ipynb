{
 "cells": [
  {
   "cell_type": "code",
   "execution_count": null,
   "id": "f9e434b7",
   "metadata": {},
   "outputs": [],
   "source": [
    "%matplotlib inline\n",
    "import matplotlib.pyplot as plt\n",
    "import seaborn as sns\n",
    "import pymc3 as pm\n",
    "import numpy as np\n",
    "import pandas as pd\n",
    "import arviz\n",
    "from sklearn.preprocessing import scale\n",
    "from yahoo_fin.stock_info import get_data\n",
    "import warnings\n",
    "warnings.filterwarnings('ignore')"
   ]
  },
  {
   "cell_type": "code",
   "execution_count": null,
   "id": "d073838d",
   "metadata": {},
   "outputs": [],
   "source": [
    "ticker_list = [\"dbx\", \"box\"]\n",
    "historical_data = {}\n",
    "for ticker in ticker_list:\n",
    "    historical_data[ticker] = get_data(ticker, start_date=\"6/28/2019\", index_as_date = False, interval = \"1d\")"
   ]
  },
  {
   "cell_type": "code",
   "execution_count": null,
   "id": "619a818f",
   "metadata": {},
   "outputs": [],
   "source": [
    "data = historical_data['dbx'][[\"close\", \"date\"]].merge(historical_data['box'][[\"close\", \"date\"]], on=\"date\")\n",
    "data.set_index(\"date\", inplace=True)\n",
    "data = data.rename({\"close_x\":\"Dropbox\",\"close_y\":\"Box\"}, axis='columns')\n",
    "data = data.fillna(method='ffill')\n",
    "data.head()"
   ]
  },
  {
   "cell_type": "code",
   "execution_count": null,
   "id": "0009d951",
   "metadata": {},
   "outputs": [],
   "source": [
    "returns = pd.DataFrame(data.pct_change().dropna())\n",
    "returns.head()"
   ]
  },
  {
   "cell_type": "code",
   "execution_count": null,
   "id": "2a83c7e6",
   "metadata": {},
   "outputs": [],
   "source": [
    "price = data.apply(scale)\n",
    "price.head()"
   ]
  },
  {
   "cell_type": "code",
   "execution_count": null,
   "id": "dab08c66",
   "metadata": {},
   "outputs": [],
   "source": [
    "print(\"Price Data\\n\",data.describe(),\n",
    "      '\\n\\nReturns Data\\n', returns.describe())"
   ]
  },
  {
   "cell_type": "code",
   "execution_count": null,
   "id": "2cefa3d8",
   "metadata": {},
   "outputs": [],
   "source": [
    "plt.figure(figsize=[8,6])\n",
    "plt.subplot(2, 1, 1)\n",
    "plt.title('Historical stock prices of Dropbox [28-06-2019 to 28-06-2021]\\n',fontsize=12, color='black')\n",
    "plt.plot(data['Dropbox'], label='Closing Price', color='black')\n",
    "plt.legend(loc=2)\n",
    "\n",
    "plt.subplot(2, 1, 2)\n",
    "plt.title('Historical stock prices of Box [28-06-2019 to 28-06-2021]\\n',fontsize=12, color='black')\n",
    "plt.plot(data['Box'], label='Closing Price', color='black')\n",
    "plt.legend(loc=2)\n",
    "\n",
    "plt.tight_layout()"
   ]
  },
  {
   "cell_type": "code",
   "execution_count": null,
   "id": "64ac7d9b",
   "metadata": {},
   "outputs": [],
   "source": [
    "fig, axes= plt.subplots(figsize=(12,5), ncols=2)\n",
    "\n",
    "data.plot(secondary_y='Dropbox', ax=axes[0])\n",
    "axes[0].set_title('Closing Price Series')\n",
    "points = axes[1].scatter(data.Box,\n",
    "                         data.Dropbox,\n",
    "                         c=np.linspace(0.1, 1, len(data)), \n",
    "                         s=15, \n",
    "                         cmap='spring')\n",
    "axes[1].set_title('Price Correlation over Time')\n",
    "cbar = plt.colorbar(points, ax=axes[1])\n",
    "cbar.ax.set_yticklabels([str(p.year) for p in returns[::len(returns)//10].index]);\n",
    "\n",
    "sns.regplot(x='Box', y='Dropbox', \n",
    "            data=data, \n",
    "            scatter=False, \n",
    "            color='k',\n",
    "            line_kws={'lw':2, \n",
    "                      'ls':'--'},\n",
    "            ax=axes[1])\n",
    "sns.despine()\n",
    "fig.tight_layout();"
   ]
  },
  {
   "cell_type": "code",
   "execution_count": null,
   "id": "ce57daff",
   "metadata": {},
   "outputs": [],
   "source": [
    "# Set up our priors by assuming a random walk over time\n",
    "model = pm.Model()\n",
    "with model:\n",
    "    s_alpha = pm.Exponential('sigma alpha', 50.)\n",
    "    alpha = pm.GaussianRandomWalk('alpha', sd=s_alpha, shape=len(data))\n",
    "    \n",
    "    s_beta = pm.Exponential('sigma beta', 50.)\n",
    "    beta = pm.GaussianRandomWalk('beta', sd=s_beta, shape=len(data))"
   ]
  },
  {
   "cell_type": "code",
   "execution_count": null,
   "id": "24604d8d",
   "metadata": {},
   "outputs": [],
   "source": [
    "with model:\n",
    "    reg = alpha + beta * price.Dropbox \n",
    "    sd = pm.HalfNormal('SD', sigma=0.1)\n",
    "    likelihood = pm.Normal('y', mu=reg, sigma=sd, observed=price.Box)"
   ]
  },
  {
   "cell_type": "code",
   "execution_count": null,
   "id": "e688ebcd",
   "metadata": {},
   "outputs": [],
   "source": [
    "pm.model_to_graphviz(model)"
   ]
  },
  {
   "cell_type": "code",
   "execution_count": null,
   "id": "8fe244ae",
   "metadata": {},
   "outputs": [],
   "source": [
    "with model:\n",
    "    trace_rw = pm.sample(tune=2000, draws=200,\n",
    "                         cores=None, target_accept=.9,\n",
    "                         random_seed=42)"
   ]
  },
  {
   "cell_type": "code",
   "execution_count": null,
   "id": "eeda199c",
   "metadata": {},
   "outputs": [],
   "source": [
    "# Graph shown in the PyMC3 docs\n",
    "fig, axes = plt.subplots(figsize=(15, 5), ncols=2, sharex=True)\n",
    "\n",
    "axes[0].plot(trace_rw['alpha'].T, 'r', alpha=.05)\n",
    "axes[0].set_xlabel('Time') \n",
    "axes[0].set_ylabel('Alpha')\n",
    "axes[0].set_title('Intercept')\n",
    "axes[0].set_xticklabels([str(p.date()) for p in price[::len(price)//9].index])\n",
    "\n",
    "axes[1].plot(trace_rw['beta'].T, 'b', alpha=.05)\n",
    "axes[1].set_xlabel('Time') \n",
    "axes[1].set_ylabel('Beta')\n",
    "axes[1].set_title('Slope')\n",
    "\n",
    "fig.suptitle('Coefficient change over time', fontsize=14)\n",
    "sns.despine()\n",
    "fig.tight_layout()\n",
    "fig.subplots_adjust(top=.9);"
   ]
  },
  {
   "cell_type": "code",
   "execution_count": null,
   "id": "b53e15dc",
   "metadata": {},
   "outputs": [],
   "source": [
    "# Graph shown in the PyMC3 docs\n",
    "x = np.linspace(price.Box.min(), \n",
    "                 price.Box.max())\n",
    "\n",
    "dates = [str(p.year) for p in price[::len(price)//9].index]\n",
    "\n",
    "colors = np.linspace(0.1, 1, len(price))\n",
    "colors_sc = np.linspace(0.1, 1, len(trace_rw[::10]['alpha'].T))\n",
    "\n",
    "cmap = plt.get_cmap('spring')\n",
    "\n",
    "fig, ax = plt.subplots(figsize=(14, 8))\n",
    "\n",
    "for i, (alpha, beta) in enumerate(zip(trace_rw[::25]['alpha'].T, \n",
    "                                      trace_rw[::25]['beta'].T)):\n",
    "    for a, b in zip(alpha[::25], beta[::25]):\n",
    "        ax.plot(x,\n",
    "                a + b*x,\n",
    "                alpha=.03,\n",
    "                lw=.9,\n",
    "                c=cmap(colors_sc[i]))\n",
    "        \n",
    "points = ax.scatter(price.Box,\n",
    "                    price.Dropbox,\n",
    "                    c=colors,\n",
    "                    s=5, \n",
    "                    cmap=cmap)\n",
    "\n",
    "cbar = plt.colorbar(points)\n",
    "cbar.ax.set_yticklabels(dates);\n",
    "\n",
    "ax.set_xlabel('Box')\n",
    "ax.set_ylabel('Dropbox')\n",
    "ax.set_title('Posterior predictive regression lines')\n",
    "sns.despine()\n",
    "fig.tight_layout();"
   ]
  }
 ],
 "metadata": {
  "kernelspec": {
   "display_name": "Python 3",
   "language": "python",
   "name": "python3"
  },
  "language_info": {
   "codemirror_mode": {
    "name": "ipython",
    "version": 3
   },
   "file_extension": ".py",
   "mimetype": "text/x-python",
   "name": "python",
   "nbconvert_exporter": "python",
   "pygments_lexer": "ipython3",
   "version": "3.8.3"
  }
 },
 "nbformat": 4,
 "nbformat_minor": 5
}
