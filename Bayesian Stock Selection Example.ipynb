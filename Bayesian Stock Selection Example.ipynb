{
 "cells": [
  {
   "cell_type": "code",
   "execution_count": 1,
   "id": "045b83d7",
   "metadata": {},
   "outputs": [],
   "source": [
    "%matplotlib inline\n",
    "import matplotlib.pyplot as plt\n",
    "import seaborn as sns\n",
    "import numpy as np\n",
    "import pandas as pd\n",
    "from collections import Counter\n",
    "from scipy.interpolate import interp1d"
   ]
  },
  {
   "cell_type": "code",
   "execution_count": 2,
   "id": "f3a3c88b",
   "metadata": {},
   "outputs": [],
   "source": [
    "prior = pd.Series(1/101, index=np.linspace(0, 1, 101))\n",
    "stocks = [prior.copy() for i in range(4)]"
   ]
  },
  {
   "cell_type": "code",
   "execution_count": 3,
   "id": "04b98f96",
   "metadata": {},
   "outputs": [],
   "source": [
    "def update(ff, data):\n",
    "    # Data can either be P (Profit) or L (loss)\n",
    "    \n",
    "    x = ff.index\n",
    "    if data == \"P\":\n",
    "        ff *= x\n",
    "    else:\n",
    "        ff *= 1-x\n",
    "        \n",
    "    ff /= ff.sum()"
   ]
  },
  {
   "cell_type": "code",
   "execution_count": 4,
   "id": "e1b68a18",
   "metadata": {},
   "outputs": [],
   "source": [
    "winning_prob = [0.15, 0.25, 0.35, 0.45]"
   ]
  },
  {
   "cell_type": "code",
   "execution_count": 5,
   "id": "68e4c6b5",
   "metadata": {},
   "outputs": [],
   "source": [
    "# Counts how many times we traded each stock\n",
    "counter = Counter()\n",
    "\n",
    "# Returns with the probability\n",
    "def simulate(p):\n",
    "    return np.random.random() < p\n",
    "\n",
    "# Trades a stock and return if it was a Proft (P) or Loss (L)\n",
    "def trade(s):\n",
    "    counter[s] += 1\n",
    "    p = winning_prob[s]\n",
    "    \n",
    "    if simulate(p):\n",
    "        return \"P\"\n",
    "    else:\n",
    "        return \"L\""
   ]
  },
  {
   "cell_type": "code",
   "execution_count": 6,
   "id": "33f4ebc5",
   "metadata": {},
   "outputs": [
    {
     "name": "stdout",
     "output_type": "stream",
     "text": [
      "L L L L L P P L L L L P L P P "
     ]
    }
   ],
   "source": [
    "for i in range(15):\n",
    "    outcome = trade(3)\n",
    "    print(outcome, end=\" \")"
   ]
  },
  {
   "cell_type": "code",
   "execution_count": 7,
   "id": "95eca4ad",
   "metadata": {},
   "outputs": [
    {
     "data": {
      "image/png": "[encoded data removed]",
      "text/plain": [
       "<Figure size 432x288 with 4 Axes>"
      ]
     },
     "metadata": {
      "needs_background": "light"
     },
     "output_type": "display_data"
    }
   ],
   "source": [
    "counter = Counter()\n",
    "\n",
    "# We start out with an uniform aka uninformed distribution for all 4 stocks\n",
    "def plot(stocks, xticklabels=\"invisible\", yticklabels=\"invisible\"):\n",
    "    for j, k in enumerate(stocks):\n",
    "        plt.subplot(2, 2, j+1)\n",
    "        k.plot(label=f'Stock {j}')\n",
    "        plt.gca().set_yticklabels([])\n",
    "        plt.legend()\n",
    "        \n",
    "    plt.tight_layout()\n",
    "\n",
    "plot(stocks)"
   ]
  },
  {
   "cell_type": "code",
   "execution_count": 8,
   "id": "7b62c4bf",
   "metadata": {},
   "outputs": [],
   "source": [
    "# Calculate the Credible Interval\n",
    "def c_interval(ff, probability):\n",
    "    x = ff.index\n",
    "    y = ff.cumsum()\n",
    "    \n",
    "    # Probs\n",
    "    p = (1-probability)/2\n",
    "    ps = [p, 1-p]\n",
    "    \n",
    "    # Interpolate\n",
    "    interp = interp1d(y, x, fill_value=(x[0], x[-1]), \n",
    "                      assume_sorted=True, bounds_error=False)\n",
    "    return interp(ps)"
   ]
  },
  {
   "cell_type": "code",
   "execution_count": 9,
   "id": "571ee571",
   "metadata": {},
   "outputs": [],
   "source": [
    "# Takes a random sample from the FF\n",
    "def choice(ff):\n",
    "    return np.random.choice(ff.index, p=ff)\n",
    "\n",
    "# Takes a sample from each distribution\n",
    "def draw(stocks):\n",
    "    s = [choice(i) for i in stocks]\n",
    "    return np.argmax(s)\n",
    "\n",
    "# Choose a stock, do a trade, and update\n",
    "def trading(stocks, verbose=False):\n",
    "    i = draw(stocks)\n",
    "    outcome = trade(i)\n",
    "    update(stocks[i], outcome)\n",
    "    \n",
    "    if verbose:\n",
    "        # Stock, outcome and mean\n",
    "        print(i, outcome, np.sum(stocks[i].index * stocks[i]))"
   ]
  },
  {
   "cell_type": "code",
   "execution_count": 10,
   "id": "b772c362",
   "metadata": {},
   "outputs": [
    {
     "data": {
      "image/png": "[encoded data removed]",
      "text/plain": [
       "<Figure size 432x288 with 4 Axes>"
      ]
     },
     "metadata": {
      "needs_background": "light"
     },
     "output_type": "display_data"
    }
   ],
   "source": [
    "# Simulating the trades and updating the priors\n",
    "for i in range(150):\n",
    "    trading(stocks)\n",
    "        \n",
    "# Plotting the posteriors        \n",
    "plot(stocks)"
   ]
  },
  {
   "cell_type": "code",
   "execution_count": 11,
   "id": "ed565296",
   "metadata": {},
   "outputs": [
    {
     "name": "stdout",
     "output_type": "stream",
     "text": [
      "0 12\n",
      "1 12\n",
      "2 25\n",
      "3 101\n"
     ]
    }
   ],
   "source": [
    "for i, count in sorted(counter.items()):\n",
    "    print(i, count)"
   ]
  },
  {
   "cell_type": "code",
   "execution_count": 12,
   "id": "fa5465bb",
   "metadata": {},
   "outputs": [
    {
     "name": "stdout",
     "output_type": "stream",
     "text": [
      "0.2142859387594895 [0.06104138 0.40519918]\n",
      "0.28571421783779827 [0.10758363 0.48962261]\n",
      "0.3703703703703719 [0.22071468 0.52117715]\n",
      "0.4951456310679611 [0.40958043 0.57088275]\n"
     ]
    }
   ],
   "source": [
    "for i, j in enumerate(stocks):\n",
    "    print(np.sum(j.index * j), c_interval(j, 0.9))"
   ]
  }
 ],
 "metadata": {
  "kernelspec": {
   "display_name": "Python 3",
   "language": "python",
   "name": "python3"
  },
  "language_info": {
   "codemirror_mode": {
    "name": "ipython",
    "version": 3
   },
   "file_extension": ".py",
   "mimetype": "text/x-python",
   "name": "python",
   "nbconvert_exporter": "python",
   "pygments_lexer": "ipython3",
   "version": "3.8.3"
  }
 },
 "nbformat": 4,
 "nbformat_minor": 5
}
